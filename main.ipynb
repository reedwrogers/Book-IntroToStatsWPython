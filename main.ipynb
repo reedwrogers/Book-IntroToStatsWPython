{
 "cells": [
  {
   "cell_type": "markdown",
   "metadata": {},
   "source": [
    "# Creating a dataset"
   ]
  },
  {
   "cell_type": "code",
   "execution_count": 38,
   "metadata": {},
   "outputs": [
    {
     "data": {
      "text/html": [
       "<div>\n",
       "<style scoped>\n",
       "    .dataframe tbody tr th:only-of-type {\n",
       "        vertical-align: middle;\n",
       "    }\n",
       "\n",
       "    .dataframe tbody tr th {\n",
       "        vertical-align: top;\n",
       "    }\n",
       "\n",
       "    .dataframe thead th {\n",
       "        text-align: right;\n",
       "    }\n",
       "</style>\n",
       "<table border=\"1\" class=\"dataframe\">\n",
       "  <thead>\n",
       "    <tr style=\"text-align: right;\">\n",
       "      <th></th>\n",
       "      <th>A</th>\n",
       "      <th>B</th>\n",
       "      <th>C</th>\n",
       "      <th>D</th>\n",
       "      <th>E</th>\n",
       "      <th>F</th>\n",
       "      <th>G</th>\n",
       "    </tr>\n",
       "  </thead>\n",
       "  <tbody>\n",
       "    <tr>\n",
       "      <th>0</th>\n",
       "      <td>0.549671</td>\n",
       "      <td>3</td>\n",
       "      <td>53</td>\n",
       "      <td>458</td>\n",
       "      <td>4202</td>\n",
       "      <td>Medium</td>\n",
       "      <td>Green</td>\n",
       "    </tr>\n",
       "    <tr>\n",
       "      <th>1</th>\n",
       "      <td>0.486174</td>\n",
       "      <td>4</td>\n",
       "      <td>55</td>\n",
       "      <td>471</td>\n",
       "      <td>4700</td>\n",
       "      <td>Medium</td>\n",
       "      <td>Green</td>\n",
       "    </tr>\n",
       "    <tr>\n",
       "      <th>2</th>\n",
       "      <td>0.564769</td>\n",
       "      <td>4</td>\n",
       "      <td>60</td>\n",
       "      <td>537</td>\n",
       "      <td>5002</td>\n",
       "      <td>Medium</td>\n",
       "      <td>Yellow</td>\n",
       "    </tr>\n",
       "    <tr>\n",
       "      <th>3</th>\n",
       "      <td>0.652303</td>\n",
       "      <td>4</td>\n",
       "      <td>60</td>\n",
       "      <td>530</td>\n",
       "      <td>5023</td>\n",
       "      <td>High</td>\n",
       "      <td>Red</td>\n",
       "    </tr>\n",
       "    <tr>\n",
       "      <th>4</th>\n",
       "      <td>0.476585</td>\n",
       "      <td>4</td>\n",
       "      <td>36</td>\n",
       "      <td>498</td>\n",
       "      <td>4774</td>\n",
       "      <td>Medium</td>\n",
       "      <td>Blue</td>\n",
       "    </tr>\n",
       "  </tbody>\n",
       "</table>\n",
       "</div>"
      ],
      "text/plain": [
       "          A  B   C    D     E       F       G\n",
       "0  0.549671  3  53  458  4202  Medium   Green\n",
       "1  0.486174  4  55  471  4700  Medium   Green\n",
       "2  0.564769  4  60  537  5002  Medium  Yellow\n",
       "3  0.652303  4  60  530  5023    High     Red\n",
       "4  0.476585  4  36  498  4774  Medium    Blue"
      ]
     },
     "execution_count": 38,
     "metadata": {},
     "output_type": "execute_result"
    }
   ],
   "source": [
    "import pandas as pd\n",
    "import numpy as np\n",
    "\n",
    "# Set a random seed for reproducibility\n",
    "np.random.seed(42)\n",
    "\n",
    "data = {\n",
    "    'A': np.random.normal(loc=0.5, scale=0.1, size=100),  # Normal distribution with mean=0.5 and std=0.1\n",
    "    'B': np.random.normal(loc=5, scale=1, size=100).astype(int),  # Normal distribution, mean=5, std=1, converted to integers\n",
    "    'C': np.random.normal(loc=50, scale=10, size=100).astype(int),  # Normal distribution, mean=50, std=10\n",
    "    'D': np.random.normal(loc=500, scale=50, size=100).astype(int),  # Normal distribution, mean=500, std=50\n",
    "    'E': np.random.normal(loc=5000, scale=500, size=100).astype(int),  # Normal distribution, mean=5000, std=500\n",
    "    'F': np.random.choice(['Low', 'Medium', 'High'], size=100, p=[0.3, 0.5, 0.2]),  # Ordinal variable\n",
    "    'G': np.random.choice(['Red', 'Blue', 'Green', 'Yellow'], size=100),  # Nominal variable\n",
    "}\n",
    "\n",
    "df = pd.DataFrame(data)\n",
    "\n",
    "# Ensure ordinal category is in logical order\n",
    "df['F'] = pd.Categorical(df['F'], categories=['Low', 'Medium', 'High'], ordered=True)\n",
    "\n",
    "df.head(5)\n"
   ]
  },
  {
   "cell_type": "markdown",
   "metadata": {},
   "source": [
    "# Basic Terms"
   ]
  },
  {
   "cell_type": "markdown",
   "metadata": {},
   "source": [
    "## Arithmetic Mean"
   ]
  },
  {
   "cell_type": "markdown",
   "metadata": {},
   "source": [
    "$$\n",
    "\\bar{x} = \\frac{\\sum x_i}{n}\n",
    "$$"
   ]
  },
  {
   "cell_type": "markdown",
   "metadata": {},
   "source": [
    "The arithmetic mean is shown to be the sum of all elements in the dataset, divided by the total number of elements in the dataset."
   ]
  },
  {
   "cell_type": "code",
   "execution_count": 39,
   "metadata": {},
   "outputs": [
    {
     "name": "stdout",
     "output_type": "stream",
     "text": [
      "0.4896153482605905\n",
      "4.54\n",
      "50.14\n",
      "504.82\n",
      "4971.51\n"
     ]
    }
   ],
   "source": [
    "print(np.mean(df['A']))\n",
    "print(np.mean(df['B']))\n",
    "print(np.mean(df['C']))\n",
    "print(np.mean(df['D']))\n",
    "print(np.mean(df['E']))"
   ]
  },
  {
   "cell_type": "markdown",
   "metadata": {},
   "source": [
    "## Median"
   ]
  },
  {
   "cell_type": "markdown",
   "metadata": {},
   "source": [
    "The median is \"the value that comes half-way when the data are ranked in order\". When the distribtion is symetrical, the mean and median coincide. "
   ]
  },
  {
   "cell_type": "code",
   "execution_count": 40,
   "metadata": {},
   "outputs": [
    {
     "name": "stdout",
     "output_type": "stream",
     "text": [
      "0.4873043708220287\n",
      "5.0\n",
      "50.5\n",
      "502.0\n",
      "4961.5\n"
     ]
    }
   ],
   "source": [
    "print(np.median(df['A']))\n",
    "print(np.median(df['B']))\n",
    "print(np.median(df['C']))\n",
    "print(np.median(df['D']))\n",
    "print(np.median(df['E']))"
   ]
  },
  {
   "cell_type": "markdown",
   "metadata": {},
   "source": [
    "## Mode"
   ]
  },
  {
   "cell_type": "markdown",
   "metadata": {},
   "source": [
    "\"Is the most frequently occuring value in the distribution.\""
   ]
  },
  {
   "cell_type": "code",
   "execution_count": 41,
   "metadata": {},
   "outputs": [
    {
     "name": "stdout",
     "output_type": "stream",
     "text": [
      "ModeResult(mode=np.float64(0.23802548959102554), count=np.int64(1))\n",
      "ModeResult(mode=np.int64(5), count=np.int64(42))\n",
      "ModeResult(mode=np.int64(55), count=np.int64(7))\n",
      "ModeResult(mode=np.int64(458), count=np.int64(5))\n",
      "ModeResult(mode=np.int64(4734), count=np.int64(2))\n"
     ]
    }
   ],
   "source": [
    "from scipy import stats\n",
    "\n",
    "print(stats.mode(df['A']))\n",
    "print(stats.mode(df['B']))\n",
    "print(stats.mode(df['C']))\n",
    "print(stats.mode(df['D']))\n",
    "print(stats.mode(df['E']))\n"
   ]
  },
  {
   "cell_type": "markdown",
   "metadata": {},
   "source": [
    "## Geometric Mean"
   ]
  },
  {
   "cell_type": "markdown",
   "metadata": {},
   "source": [
    "\"In some situations, the geometric mean can be useful to describe the location of a distribution. It can be calculated via the arithmetic mean of the log of the values.\" "
   ]
  },
  {
   "cell_type": "markdown",
   "metadata": {},
   "source": [
    "$$\n",
    "\\text{Geometric Mean} = \\sqrt[n]{\\prod_{i=1}^n x_i}\n",
    "$$"
   ]
  },
  {
   "cell_type": "markdown",
   "metadata": {},
   "source": [
    "The geometric mean is just looking at the growth rate between values in the dataset. It answers the question: \"What single number could replace each value in the dataset so that their product remains unchanged?\""
   ]
  },
  {
   "cell_type": "code",
   "execution_count": 42,
   "metadata": {},
   "outputs": [
    {
     "name": "stdout",
     "output_type": "stream",
     "text": [
      "0.4806885567207313\n",
      "4.437728627532884\n",
      "48.89367030174003\n",
      "502.9131360335205\n",
      "4943.522671827747\n"
     ]
    }
   ],
   "source": [
    "print(stats.gmean(df['A']))\n",
    "print(stats.gmean(df['B']))\n",
    "print(stats.gmean(df['C']))\n",
    "print(stats.gmean(df['D']))\n",
    "print(stats.gmean(df['E']))"
   ]
  },
  {
   "cell_type": "markdown",
   "metadata": {},
   "source": [
    "## Range"
   ]
  },
  {
   "cell_type": "markdown",
   "metadata": {},
   "source": [
    "Simply the difference between the highest and the lowest value."
   ]
  },
  {
   "cell_type": "code",
   "execution_count": 43,
   "metadata": {},
   "outputs": [
    {
     "name": "stdout",
     "output_type": "stream",
     "text": [
      "0.4472023288598682\n",
      "4\n",
      "71\n",
      "216\n",
      "2690\n"
     ]
    }
   ],
   "source": [
    "print(np.ptp(df['A']))\n",
    "print(np.ptp(df['B']))\n",
    "print(np.ptp(df['C']))\n",
    "print(np.ptp(df['D']))\n",
    "print(np.ptp(df['E']))"
   ]
  },
  {
   "cell_type": "markdown",
   "metadata": {},
   "source": [
    "## Cummulative Density Function & Probability Density Function"
   ]
  },
  {
   "cell_type": "code",
   "execution_count": 44,
   "metadata": {},
   "outputs": [
    {
     "data": {
      "image/png": "[encoded data removed]",
      "text/plain": [
       "<Figure size 800x500 with 1 Axes>"
      ]
     },
     "metadata": {},
     "output_type": "display_data"
    }
   ],
   "source": [
    "import matplotlib.pyplot as plt\n",
    "\n",
    "# Extract column A\n",
    "data = df['A']\n",
    "\n",
    "# Sort the data\n",
    "data_sorted = np.sort(data)\n",
    "\n",
    "# Compute the cumulative probabilities\n",
    "cdf = np.arange(1, len(data_sorted) + 1) / len(data_sorted)\n",
    "\n",
    "# Plot the CDF\n",
    "plt.figure(figsize=(8, 5))\n",
    "plt.plot(data_sorted, cdf, label='CDF', color='blue')\n",
    "plt.title(\"Cumulative Distribution Function (CDF) for Column A\")\n",
    "plt.xlabel(\"Value\")\n",
    "plt.ylabel(\"Cumulative Probability\")\n",
    "plt.grid()\n",
    "plt.legend()\n",
    "plt.show()"
   ]
  },
  {
   "cell_type": "markdown",
   "metadata": {},
   "source": [
    "$$\n",
    "F_X(x) = P(X \\leq x) = \\int_{-\\infty}^x PDF(x) \\, dx\n",
    "$$"
   ]
  },
  {
   "cell_type": "markdown",
   "metadata": {},
   "source": [
    "The CDF is useful in understanding percentiles, so it will be defined first. The equations for the CDF of x is shown to be the probability of value X being less than or equal to a value x. Using the chart above, you can see the CDF for the data from column A in our df. For example, let's say our value X is 0.4. That means that based on the CDF, the probablity of observing a value less than or equal to 0.4 is about 20%.\n",
    "\n",
    "But what is the PDF?"
   ]
  },
  {
   "cell_type": "markdown",
   "metadata": {},
   "source": [
    "$$\n",
    "PDF(x) = \\frac{d}{dx} CDF(x)\n",
    "$$"
   ]
  },
  {
   "cell_type": "markdown",
   "metadata": {},
   "source": [
    "The PDF and CDF are related. The CDF is the integral (area under the curve) of the PDF. And the PDF is the derivative (slope at a point) of the CDF. "
   ]
  },
  {
   "cell_type": "code",
   "execution_count": 45,
   "metadata": {},
   "outputs": [
    {
     "name": "stderr",
     "output_type": "stream",
     "text": [
      "/var/folders/xs/v8vffk_j2bdc0xbbp1p9sgx00000gn/T/ipykernel_65605/2008931282.py:5: FutureWarning: \n",
      "\n",
      "`shade` is now deprecated in favor of `fill`; setting `fill=True`.\n",
      "This will become an error in seaborn v0.14.0; please update your code.\n",
      "\n",
      "  sns.kdeplot(df['A'], shade=True, color=\"blue\")\n"
     ]
    },
    {
     "data": {
      "image/png": "[encoded data removed]",
      "text/plain": [
       "<Figure size 800x500 with 1 Axes>"
      ]
     },
     "metadata": {},
     "output_type": "display_data"
    }
   ],
   "source": [
    "import seaborn as sns\n",
    "\n",
    "# Plotting the PDF using Kernel Density Estimation (KDE)\n",
    "plt.figure(figsize=(8, 5))\n",
    "sns.kdeplot(df['A'], shade=True, color=\"blue\")\n",
    "plt.title(\"Kernel Density Estimate (PDF) for Column A\")\n",
    "plt.xlabel(\"Value\")\n",
    "plt.ylabel(\"Density\")\n",
    "plt.grid(True)\n",
    "plt.show()\n"
   ]
  },
  {
   "cell_type": "markdown",
   "metadata": {},
   "source": [
    "Now see here that the PDF of variable A can give us the CDF of the variable A as well. We cannot simply just use this chart to find the probablity of obverving a specific value in A. We need to figure out the area under the curve up to a specific point - which in turn gives us the CDF. Getting the intregral up to 0.6, for example, will return to us the area under the curve to that point, giving us the probablity of observing that outcome. "
   ]
  },
  {
   "cell_type": "markdown",
   "metadata": {},
   "source": [
    "$$\n",
    "P(a <= X <= b) = \\int_{b}^a PDF(x) \\, dx = CDF(b) - CDF(a)\n",
    "$$"
   ]
  },
  {
   "cell_type": "markdown",
   "metadata": {},
   "source": [
    "So, what is the above equation saying? Here, we are no longer checking to see the probablity that a value is before or equal to a value x, we are checking to see the probablity that x falls between two values a and b.\n",
    "\n",
    "From the perspective of the PDF, this now becomes the intregral from a to b. The area under the curve of the PDF function from points a to b. \n",
    "\n",
    "From the CDF, this simply becomes the value at point b from the CDF curve, minus the value at point a. The resulting value is the probablity that x falls between b and a. "
   ]
  },
  {
   "cell_type": "markdown",
   "metadata": {},
   "source": [
    "## Percentiles"
   ]
  }
 ],
 "metadata": {
  "kernelspec": {
   "display_name": ".conda",
   "language": "python",
   "name": "python3"
  },
  "language_info": {
   "codemirror_mode": {
    "name": "ipython",
    "version": 3
   },
   "file_extension": ".py",
   "mimetype": "text/x-python",
   "name": "python",
   "nbconvert_exporter": "python",
   "pygments_lexer": "ipython3",
   "version": "3.12.5"
  }
 },
 "nbformat": 4,
 "nbformat_minor": 2
}
